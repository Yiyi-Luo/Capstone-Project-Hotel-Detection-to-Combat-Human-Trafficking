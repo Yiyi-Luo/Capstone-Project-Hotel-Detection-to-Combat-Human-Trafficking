{
 "cells": [
  {
   "cell_type": "code",
   "execution_count": null,
   "id": "06288dec-bf6e-48d2-bbc7-1a0c169ce02e",
   "metadata": {},
   "outputs": [],
   "source": []
  },
  {
   "cell_type": "code",
   "execution_count": null,
   "id": "1ae25197-44ef-4228-b0b5-d977f8140947",
   "metadata": {},
   "outputs": [],
   "source": [
    "#A function to resize images\n",
    "def resize_image (image_path, target_size=(256,256)):\n",
    "    \"\"\"Resize an image to the target size.\"\"\"\n",
    "    image = load_img(image_path)\n",
    "    image = image.resize(target_size)\n",
    "    return image\n",
    "\n",
    "#A funtion to apply masks\n",
    "def apply_mask (image, mask):\n",
    "    \"\"\"Apply a red mask to an image.\"\"\"\n",
    "    image_array = img_to_array (image)\n",
    "    mask_array = img_to_array (mask)\n",
    "    #Maks's red color is the pure red color [255,0,0]\n",
    "    red_mask = (mask_array[:,:,0] == 255) & (mask_array[:,:,1] == 0) & (mask_array[:,:,2] == 0)\n",
    "    #Apply the red mask to each channel of the image\n",
    "    image_array[red_mask] = [255,0,0] #This sets the color to red wherever the mask is present\n",
    "    return array_to_img(image_array)\n",
    "\n",
    "#A function to process the images by resizing and applying masks\n",
    "def process_images(train_images_dir, train_masks_dir, output_dir, target_size=(256, 256)):\n",
    "    \"\"\"Process images by resizing and applying masks.\"\"\"\n",
    "    if not os.path.exists(output_dir):\n",
    "        os.makedirs(output_dir)\n",
    "    \n",
    "    # Initialize a counter for processed images\n",
    "    processed_count = 0\n",
    "\n",
    "    # List all subdirectories in train_images_dir\n",
    "    subdirs = [d for d in os.listdir(train_images_dir) if os.path.isdir(os.path.join(train_images_dir, d))]\n",
    "    \n",
    "    mask_files = [f for f in os.listdir(train_masks_dir) if f.lower().endswith('.png')]\n",
    "\n",
    "    for subdir in subdirs:\n",
    "        subdir_path = os.path.join(train_images_dir, subdir)\n",
    "        image_files = [f for f in os.listdir(subdir_path) if f.lower().endswith('.jpg')]\n",
    "\n",
    "        for image_file in image_files:\n",
    "            try:\n",
    "                image_path = os.path.join(subdir_path, image_file)\n",
    "                mask_file = random.choice(mask_files)  # Random mask for each image\n",
    "                mask_path = os.path.join(train_masks_dir, mask_file)\n",
    "\n",
    "                resized_image = resize_image(image_path, target_size)\n",
    "                resized_mask = resize_image(mask_path, target_size)\n",
    "\n",
    "                masked_image = apply_mask(resized_image, resized_mask)\n",
    "\n",
    "                output_path = os.path.join(output_dir, f\"{subdir}_{image_file}\")\n",
    "                masked_image.save(output_path)\n",
    "                processed_count += 1\n",
    "            except Exception as e:\n",
    "                print (f\"Error processing image {image_path}: {e}\")\n",
    "\n",
    "    print(f\"Processed {processed_count} images and saved to {output_dir}\")\n",
    "\n",
    "def copy_files(files, source_dir, dest_dir):\n",
    "    for f in files:\n",
    "        shutil.copy(os.path.join(source_dir, f), os.path.join(dest_dir, f))\n",
    "\n",
    "train_images_dir = 'train_images'\n",
    "train_masks_dir = 'train_masks'\n",
    "processed_images_dir ='processed_images'\n",
    "\n",
    "if os.path.exists(processed_images_dir):\n",
    "    shutil.rmtree(processed_images_dir)\n",
    "os.makedirs(processed_images_dir)\n",
    "\n",
    "process_images(train_images_dir, train_masks_dir, processed_images_dir)"
   ]
  },
  {
   "cell_type": "code",
   "execution_count": null,
   "id": "df24bbd7-a0e8-4c0d-99ea-afc4950f9c00",
   "metadata": {},
   "outputs": [],
   "source": []
  },
  {
   "cell_type": "code",
   "execution_count": null,
   "id": "8c1637e4-341d-4ffd-9d15-4b5eb6924c52",
   "metadata": {},
   "outputs": [],
   "source": []
  },
  {
   "cell_type": "code",
   "execution_count": null,
   "id": "dac93b23-2a34-4097-b903-205f8f3ea958",
   "metadata": {},
   "outputs": [],
   "source": []
  },
  {
   "cell_type": "code",
   "execution_count": null,
   "id": "59227a1a-67b7-452a-a2be-1de9f9a1c0b9",
   "metadata": {},
   "outputs": [],
   "source": []
  },
  {
   "cell_type": "code",
   "execution_count": null,
   "id": "56eb624d-a000-4c61-a381-9aa24b90ed68",
   "metadata": {},
   "outputs": [],
   "source": []
  },
  {
   "cell_type": "code",
   "execution_count": null,
   "id": "d0edfe18-73d7-4d80-8f8d-fcf07ed80649",
   "metadata": {},
   "outputs": [],
   "source": []
  },
  {
   "cell_type": "code",
   "execution_count": null,
   "id": "4baa5206-59f1-4626-abb4-16419779d447",
   "metadata": {},
   "outputs": [],
   "source": []
  },
  {
   "cell_type": "code",
   "execution_count": null,
   "id": "4609cc0f-f4e0-4235-97a9-2761603460fa",
   "metadata": {},
   "outputs": [],
   "source": []
  },
  {
   "cell_type": "code",
   "execution_count": null,
   "id": "b668a0db-dd84-477b-9685-aa33433b62cb",
   "metadata": {},
   "outputs": [],
   "source": []
  },
  {
   "cell_type": "code",
   "execution_count": null,
   "id": "2a5f601c-1711-4a1f-a122-6245151c22af",
   "metadata": {},
   "outputs": [],
   "source": []
  }
 ],
 "metadata": {
  "kernelspec": {
   "display_name": "Python 3 (ipykernel)",
   "language": "python",
   "name": "python3"
  },
  "language_info": {
   "codemirror_mode": {
    "name": "ipython",
    "version": 3
   },
   "file_extension": ".py",
   "mimetype": "text/x-python",
   "name": "python",
   "nbconvert_exporter": "python",
   "pygments_lexer": "ipython3",
   "version": "3.11.7"
  }
 },
 "nbformat": 4,
 "nbformat_minor": 5
}
